{
 "cells": [
  {
   "cell_type": "code",
   "execution_count": 1,
   "metadata": {},
   "outputs": [],
   "source": [
    "import numpy as np\n",
    "import os\n",
    "from os import listdir\n",
    "from shutil import copyfile"
   ]
  },
  {
   "cell_type": "code",
   "execution_count": 27,
   "metadata": {},
   "outputs": [],
   "source": [
    "clients = 2\n",
    "trainDir = './content/train/'\n",
    "testDir = './content/test1/'"
   ]
  },
  {
   "cell_type": "code",
   "execution_count": 28,
   "metadata": {},
   "outputs": [],
   "source": [
    "cat = [name for name in listdir(trainDir) if \"cat\" in name]\n",
    "dog = [name for name in listdir(trainDir) if \"dog\" in name]\n",
    "test = [name for name in listdir(testDir)]"
   ]
  },
  {
   "cell_type": "code",
   "execution_count": 38,
   "metadata": {},
   "outputs": [
    {
     "data": {
      "text/plain": [
       "3750"
      ]
     },
     "execution_count": 38,
     "metadata": {},
     "output_type": "execute_result"
    }
   ],
   "source": [
    "# bagi percent\n",
    "clientCat = np.array_split([trainDir + s for s in cat],[int(len(cat)*0.20),int(len(cat)*0.5)])\n",
    "clientDog = np.array_split([trainDir + s for s in dog],[int(len(dog)*0.3),int(len(cat)*0.5)])\n",
    "len(clientCat[1])\n"
   ]
  },
  {
   "cell_type": "code",
   "execution_count": 39,
   "metadata": {},
   "outputs": [
    {
     "data": {
      "text/plain": [
       "6250"
      ]
     },
     "execution_count": 39,
     "metadata": {},
     "output_type": "execute_result"
    }
   ],
   "source": [
    "testClient  = np.array_split([testDir + s for s in test],[int(len(clientCat[0])+len(clientDog[0])),int(len(clientCat[1])+len(clientDog[1]))])\n",
    "len(testClient[0])"
   ]
  },
  {
   "cell_type": "code",
   "execution_count": 40,
   "metadata": {},
   "outputs": [],
   "source": [
    "dir = []\n",
    "for i in range(clients):\n",
    "    train = 'client' + str(i) +'/train/'\n",
    "    dir.append(train)\n",
    "    if not os.path.exists(train):\n",
    "        os.makedirs(train)\n",
    "    for d in range(len(clientCat[i])):\n",
    "        copyfile(clientCat[i][d],train + '/cat.'+ str(d)+'.jpg')\n",
    "    for j in range(len(clientDog[i])):\n",
    "        copyfile(clientDog[i][j],train + '/dog.'+ str(j)+'.jpg')"
   ]
  },
  {
   "cell_type": "code",
   "execution_count": null,
   "metadata": {},
   "outputs": [],
   "source": [
    "for i in range(clients):\n",
    "    train = 'client' + str(i) +'/test/'\n",
    "    dir.append(train)\n",
    "    if not os.path.exists(train):\n",
    "        os.makedirs(train)\n",
    "    for d in range(len(testClient[i])):\n",
    "        copyfile(testClient[i][d],train + str(d)+'.jpg')"
   ]
  },
  {
   "cell_type": "code",
   "execution_count": 80,
   "metadata": {},
   "outputs": [
    {
     "data": {
      "text/plain": [
       "array([ 5,  6,  7,  8,  9, 10])"
      ]
     },
     "execution_count": 80,
     "metadata": {},
     "output_type": "execute_result"
    }
   ],
   "source": [
    "files = [1,2,3,4,5,6,7,8,9,10]\n",
    "train = np.split(files, [int(len(files)*0.2), int(len(files)*0.25), int(len(files)*0.35), int(len(files)*0.45)])\n",
    "train[4]"
   ]
  },
  {
   "cell_type": "code",
   "execution_count": 11,
   "metadata": {},
   "outputs": [
    {
     "data": {
      "text/plain": [
       "array([ 9, 10])"
      ]
     },
     "execution_count": 11,
     "metadata": {},
     "output_type": "execute_result"
    }
   ],
   "source": [
    "test"
   ]
  },
  {
   "cell_type": "code",
   "execution_count": null,
   "metadata": {},
   "outputs": [],
   "source": []
  }
 ],
 "metadata": {
  "interpreter": {
   "hash": "93220a68818951134b6451d47f0afcefcea532451dd506c7692aab2a38c61ce1"
  },
  "kernelspec": {
   "display_name": "Python 3.8.12 64-bit (conda)",
   "language": "python",
   "name": "python3"
  },
  "language_info": {
   "codemirror_mode": {
    "name": "ipython",
    "version": 3
   },
   "file_extension": ".py",
   "mimetype": "text/x-python",
   "name": "python",
   "nbconvert_exporter": "python",
   "pygments_lexer": "ipython3",
   "version": "3.8.12"
  },
  "orig_nbformat": 4
 },
 "nbformat": 4,
 "nbformat_minor": 2
}
